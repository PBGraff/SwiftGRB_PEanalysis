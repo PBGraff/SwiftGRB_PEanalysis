{
 "metadata": {
  "name": "",
  "signature": "sha256:390eea040b3c91f42fecb3d9524e62128e80b442e4f67ac6276f5d5ec1f45cd7"
 },
 "nbformat": 3,
 "nbformat_minor": 0,
 "worksheets": [
  {
   "cells": [
    {
     "cell_type": "code",
     "collapsed": false,
     "input": [
      "# import necessary modules\n",
      "import numpy as np\n",
      "import triangle"
     ],
     "language": "python",
     "metadata": {},
     "outputs": [],
     "prompt_number": 1
    },
    {
     "cell_type": "code",
     "collapsed": false,
     "input": [
      "# read in data and set true values\n",
      "datafile = 'chains/analysis_n0084_n1206_n270_seed38496_post_equal_weights.dat'\n",
      "data = np.loadtxt(datafile, usecols=(0,1,2))\n",
      "n0_true = 0.84\n",
      "n1_true = 2.07\n",
      "n2_true = -0.70"
     ],
     "language": "python",
     "metadata": {},
     "outputs": [],
     "prompt_number": 6
    },
    {
     "cell_type": "code",
     "collapsed": false,
     "input": [
      "# plot it\n",
      "figure = triangle.corner(data, labels=[r'$n_0$',r'$n_1$',r'$n_2$'],\n",
      "                         truths=[n0_true, n1_true, n2_true],\n",
      "                         quantiles=[0.16, 0.5, 0.84], show_titles=True,\n",
      "                         title_args={\"fontsize\": 12})\n",
      "figure.savefig(\"test_posterior.png\")"
     ],
     "language": "python",
     "metadata": {},
     "outputs": [
      {
       "output_type": "stream",
       "stream": "stdout",
       "text": [
        "Quantiles:\n",
        "[(0.16, 0.33327057872204774), (0.5, 0.69941773628984083), (0.84, 1.4092856430487957)]\n",
        "Quantiles:\n",
        "[(0.16, 2.6519626846313478), (0.5, 3.1644565582275392), (0.84, 3.5906129188537594)]\n",
        "Quantiles:"
       ]
      },
      {
       "output_type": "stream",
       "stream": "stdout",
       "text": [
        "\n",
        "[(0.16, -0.9805473327636719), (0.5, -0.64372992515563965), (0.84, -0.32919671058654787)]\n"
       ]
      }
     ],
     "prompt_number": 8
    },
    {
     "cell_type": "code",
     "collapsed": false,
     "input": [],
     "language": "python",
     "metadata": {},
     "outputs": []
    }
   ],
   "metadata": {}
  }
 ]
}