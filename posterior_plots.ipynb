{
 "metadata": {
  "name": "",
  "signature": "sha256:2fa90199c89ee5a62bd1d7db3b9ab94269640b3e59c9bffd8c090f75999f4624"
 },
 "nbformat": 3,
 "nbformat_minor": 0,
 "worksheets": [
  {
   "cells": [
    {
     "cell_type": "code",
     "collapsed": false,
     "input": [
      "# import necessary modules\n",
      "import numpy as np\n",
      "import triangle\n",
      "import matplotlib.pyplot as plt"
     ],
     "language": "python",
     "metadata": {},
     "outputs": [],
     "prompt_number": 8
    },
    {
     "cell_type": "code",
     "collapsed": false,
     "input": [
      "# read in data and set true values\n",
      "datafile = 'chains/analysis_n084_n1207_n270_seed30_post_equal_weights.dat'\n",
      "data = np.loadtxt(datafile, usecols=(0,1,2,3,4))\n",
      "n0_true = 0.84\n",
      "n1_true = 2.07\n",
      "n2_true = -0.7\n",
      "nstar_true = n0_true * (1.0 + 3.6)**n1_true\n",
      "truths = [n0_true, n1_true, n2_true, nstar_true, 9140]\n",
      "data.shape"
     ],
     "language": "python",
     "metadata": {},
     "outputs": [
      {
       "metadata": {},
       "output_type": "pyout",
       "prompt_number": 9,
       "text": [
        "(5224, 5)"
       ]
      }
     ],
     "prompt_number": 9
    },
    {
     "cell_type": "code",
     "collapsed": false,
     "input": [
      "# plot it\n",
      "figure = triangle.corner(data, labels=[r'$n_0$',r'$n_1$',r'$n_2$',r'$n_{\\ast}$',r'$n_{\\rm tot}$'],\n",
      "                         truths=truths, bins=30,\n",
      "                         quantiles=[0.05, 0.5, 0.95], show_titles=True,\n",
      "                         title_args={\"fontsize\": 12})\n",
      "figure.savefig(\"test_posterior.png\")\n",
      "plt.close(figure)"
     ],
     "language": "python",
     "metadata": {},
     "outputs": [
      {
       "output_type": "stream",
       "stream": "stdout",
       "text": [
        "Quantiles:\n",
        "[(0.05, 0.66779660857282785), (0.5, 0.80525738607559338), (0.95, 0.96013607952363533)]\n",
        "Quantiles:\n",
        "[(0.05, 1.9319028991566198), (0.5, 2.0904049794028601), (0.95, 2.2498686624838022)]\n",
        "Quantiles:"
       ]
      },
      {
       "output_type": "stream",
       "stream": "stdout",
       "text": [
        "\n",
        "[(0.05, -1.9026632918215922), (0.5, -1.3143096272497923), (0.95, -0.78184728254807778)]\n",
        "Quantiles:"
       ]
      },
      {
       "output_type": "stream",
       "stream": "stdout",
       "text": [
        "\n",
        "[(0.05, 17.937994286757448), (0.5, 19.53169264378397), (0.95, 21.249435740163165)]\n",
        "Quantiles:"
       ]
      },
      {
       "output_type": "stream",
       "stream": "stdout",
       "text": [
        "\n",
        "[(0.05, 7474.8373875796897), (0.5, 8083.4622672879841), (0.95, 8812.4833131505929)]\n"
       ]
      }
     ],
     "prompt_number": 21
    },
    {
     "cell_type": "code",
     "collapsed": false,
     "input": [
      "zdet = np.loadtxt('support_data/FynboGRB_lum_z_Zonly.txt')\n",
      "print zdet[zdet>3.6]\n",
      "print zdet.shape"
     ],
     "language": "python",
     "metadata": {},
     "outputs": [
      {
       "output_type": "stream",
       "stream": "stdout",
       "text": [
        "[ 6.7   3.63  5.47  3.78  5.11  3.91  4.05  6.3   3.97  4.28]\n",
        "(66,)\n"
       ]
      }
     ],
     "prompt_number": 24
    },
    {
     "cell_type": "code",
     "collapsed": false,
     "input": [],
     "language": "python",
     "metadata": {},
     "outputs": [],
     "prompt_number": 7
    },
    {
     "cell_type": "code",
     "collapsed": false,
     "input": [],
     "language": "python",
     "metadata": {},
     "outputs": []
    }
   ],
   "metadata": {}
  }
 ]
}