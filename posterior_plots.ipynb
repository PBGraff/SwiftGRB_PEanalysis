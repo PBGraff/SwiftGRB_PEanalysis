{
 "metadata": {
  "name": "",
  "signature": "sha256:211494d5c8cf98f02accd9b1de05449b18a0b44c709cc9959150e9b677947efb"
 },
 "nbformat": 3,
 "nbformat_minor": 0,
 "worksheets": [
  {
   "cells": [
    {
     "cell_type": "code",
     "collapsed": false,
     "input": [
      "# import necessary modules\n",
      "import numpy as np\n",
      "import triangle"
     ],
     "language": "python",
     "metadata": {},
     "outputs": [],
     "prompt_number": 1
    },
    {
     "cell_type": "code",
     "collapsed": false,
     "input": [
      "# read in data and set true values\n",
      "datafile = 'chains/analysis_n084_n1207_n270_seed19_post_equal_weights.dat'\n",
      "data = np.loadtxt(datafile, usecols=(0,1,2,3,4))\n",
      "n0_true = 0.84\n",
      "n1_true = 2.07\n",
      "n2_true = -0.7\n",
      "nstar_true = n0_true * (1.0 + 3.6)**n1_true\n",
      "truths = [n0_true, n1_true, n2_true, nstar_true, 9140]\n",
      "data.shape"
     ],
     "language": "python",
     "metadata": {},
     "outputs": [
      {
       "metadata": {},
       "output_type": "pyout",
       "prompt_number": 31,
       "text": [
        "(4669, 5)"
       ]
      }
     ],
     "prompt_number": 31
    },
    {
     "cell_type": "code",
     "collapsed": false,
     "input": [
      "# plot it\n",
      "figure = triangle.corner(data, labels=[r'$n_0$',r'$n_1$',r'$n_2$',r'$n_{\\ast}$',r'$n_{\\rm tot}$'],\n",
      "                         truths=truths, bins=30,\n",
      "                         quantiles=[0.16, 0.5, 0.84], show_titles=True,\n",
      "                         title_args={\"fontsize\": 12})\n",
      "figure.savefig(\"test_posterior.png\")"
     ],
     "language": "python",
     "metadata": {},
     "outputs": [
      {
       "output_type": "stream",
       "stream": "stdout",
       "text": [
        "Quantiles:\n",
        "[(0.16, 0.38319078054145345), (0.5, 0.69660148545311329), (0.84, 1.14529180840488)]\n",
        "Quantiles:\n",
        "[(0.16, 1.7981341204533219), (0.5, 2.1821574982311351), (0.84, 2.6255872851845088)]\n",
        "Quantiles:"
       ]
      },
      {
       "output_type": "stream",
       "stream": "stdout",
       "text": [
        "\n",
        "[(0.16, -1.1880751256194746), (0.5, -0.73965930938720703), (0.84, -0.31021329064989567)]\n",
        "Quantiles:"
       ]
      },
      {
       "output_type": "stream",
       "stream": "stdout",
       "text": [
        "\n",
        "[(0.16, 16.79413255171271), (0.5, 19.383018031914471), (0.84, 22.401500912953487)]\n",
        "Quantiles:"
       ]
      },
      {
       "output_type": "stream",
       "stream": "stdout",
       "text": [
        "\n",
        "[(0.16, 8040.7391963983528), (0.5, 8782.7462977932591), (0.84, 9585.8363756694998)]\n"
       ]
      }
     ],
     "prompt_number": 32
    },
    {
     "cell_type": "code",
     "collapsed": false,
     "input": [],
     "language": "python",
     "metadata": {},
     "outputs": [],
     "prompt_number": 15
    },
    {
     "cell_type": "code",
     "collapsed": false,
     "input": [],
     "language": "python",
     "metadata": {},
     "outputs": [],
     "prompt_number": 7
    },
    {
     "cell_type": "code",
     "collapsed": false,
     "input": [],
     "language": "python",
     "metadata": {},
     "outputs": []
    }
   ],
   "metadata": {}
  }
 ]
}