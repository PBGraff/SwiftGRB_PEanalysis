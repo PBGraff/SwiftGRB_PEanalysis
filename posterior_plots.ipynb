{
 "metadata": {
  "name": "",
  "signature": "sha256:3098d3aa36cebd4bccd137e61719172065d6e381da18b805af1ea71681249e3d"
 },
 "nbformat": 3,
 "nbformat_minor": 0,
 "worksheets": [
  {
   "cells": [
    {
     "cell_type": "code",
     "collapsed": false,
     "input": [
      "# import necessary modules\n",
      "import numpy as np\n",
      "import triangle\n",
      "import matplotlib.pyplot as plt"
     ],
     "language": "python",
     "metadata": {},
     "outputs": [],
     "prompt_number": 1
    },
    {
     "cell_type": "code",
     "collapsed": false,
     "input": [
      "# read in data and set true values\n",
      "\"\"\"datafile = 'chains/analysis_n084_n1207_n270_seed30_post_equal_weights.dat'\n",
      "data = np.loadtxt(datafile, usecols=(0,1,2,3,4))\n",
      "n0_true = 0.84\n",
      "n1_true = 2.07\n",
      "n2_true = -0.7\n",
      "nstar_true = n0_true * (1.0 + 3.6)**n1_true\n",
      "truths = [n0_true, n1_true, n2_true, nstar_true, 9140]\n",
      "print data.shape\"\"\"\n",
      "\"\"\"datafile = 'chains/analysis_n0100_n1200_n2200_seed31_post_equal_weights.dat'\n",
      "data = np.loadtxt(datafile, usecols=(0,1,2,3,4))\n",
      "n0_true = 1.00\n",
      "n1_true = 2.00\n",
      "n2_true = -2.00\n",
      "nstar_true = n0_true * (1.0 + 3.6)**n1_true\n",
      "truths = [n0_true, n1_true, n2_true, nstar_true, 8087]\n",
      "print data.shape\"\"\"\n",
      "\"\"\"datafile = 'chains/analysis_n0100_n1200_n2100_seed31_post_equal_weights.dat'\n",
      "data = np.loadtxt(datafile, usecols=(0,1,2,3,4))\n",
      "n0_true = 1.00\n",
      "n1_true = 2.00\n",
      "n2_true = -1.00\n",
      "nstar_true = n0_true * (1.0 + 3.6)**n1_true\n",
      "truths = [n0_true, n1_true, n2_true, nstar_true, 9361]\n",
      "print data.shape\"\"\"\n",
      "datafile = 'chains/analysis_n084_n1207_n270_seed1234_post_equal_weights.dat'\n",
      "data = np.loadtxt(datafile, usecols=(0,1,2,3,4))\n",
      "n0_true = 0.84\n",
      "n1_true = 2.07\n",
      "n2_true = -0.7\n",
      "nstar_true = n0_true * (1.0 + 3.6)**n1_true\n",
      "truths = [n0_true, n1_true, n2_true, nstar_true, 9140]\n",
      "print data.shape"
     ],
     "language": "python",
     "metadata": {},
     "outputs": [
      {
       "output_type": "stream",
       "stream": "stdout",
       "text": [
        "(4606, 5)\n"
       ]
      }
     ],
     "prompt_number": 10
    },
    {
     "cell_type": "code",
     "collapsed": false,
     "input": [
      "# plot it\n",
      "figure = triangle.corner(data, labels=[r'$n_0$',r'$n_1$',r'$n_2$',r'$n_{\\ast}$',r'$n_{\\rm tot}$'],\n",
      "                         truths=truths, bins=30,\n",
      "                         quantiles=[0.05, 0.5, 0.95], show_titles=True,\n",
      "                         title_args={\"fontsize\": 12})\n",
      "figure.savefig(\"test_posterior6.png\")\n",
      "plt.close(figure)"
     ],
     "language": "python",
     "metadata": {},
     "outputs": [
      {
       "output_type": "stream",
       "stream": "stdout",
       "text": [
        "Quantiles:\n",
        "[(0.05, 0.67757613632541935), (0.5, 1.0538626140927798), (0.95, 1.4660044237333378)]\n",
        "Quantiles:\n",
        "[(0.05, 1.6522622375083966), (0.5, 1.9396637141940825), (0.95, 2.3266330281093479)]\n",
        "Quantiles:"
       ]
      },
      {
       "output_type": "stream",
       "stream": "stdout",
       "text": [
        "\n",
        "[(0.05, -3.7163058345933524), (0.5, -2.3108863348728743), (0.95, -0.82738498244894143)]\n",
        "Quantiles:"
       ]
      },
      {
       "output_type": "stream",
       "stream": "stdout",
       "text": [
        "\n",
        "[(0.05, 16.779502644888769), (0.5, 20.404936633928543), (0.95, 24.967655479762396)]\n",
        "Quantiles:"
       ]
      },
      {
       "output_type": "stream",
       "stream": "stdout",
       "text": [
        "\n",
        "[(0.05, 6462.4840603495722), (0.5, 7689.8934242471751), (0.95, 9349.5219304465409)]\n"
       ]
      }
     ],
     "prompt_number": 6
    },
    {
     "cell_type": "code",
     "collapsed": false,
     "input": [
      "zdet = np.loadtxt('chains/analysis_n0100_n1200_n2200_seed31_detectedZdata.txt')\n",
      "print zdet[zdet>3.6]\n",
      "print len(zdet[zdet>3.6]), len(zdet)"
     ],
     "language": "python",
     "metadata": {},
     "outputs": [
      {
       "output_type": "stream",
       "stream": "stdout",
       "text": [
        "[ 3.722055  3.87359   3.626386  6.044998  3.754644  4.298743  4.693547\n",
        "  4.724232  4.039831  3.79047   3.866069  4.032478  6.10987   4.173579\n",
        "  4.262848  4.687357  4.019089  3.735513  4.284976  3.961206  4.551311\n",
        "  4.958972  4.03189   4.734218  4.857071  3.764658  7.228472  4.354413\n",
        "  4.952698  6.155527  4.69478   4.506551  3.747474  4.466342  4.193144\n",
        "  8.252568  4.249375  3.80771   3.67095   4.452197  4.132993  5.446266\n",
        "  4.122867  4.372242  3.610112  3.703078  7.725962  3.736522  3.960534\n",
        "  4.764063  3.649998  4.093022  3.869024  4.258142  4.525682  4.13148\n",
        "  4.302734  4.594615  3.957494  4.117531  3.757263  3.602185  3.903351\n",
        "  4.036427  4.249081  4.803109  3.928784  3.820861  6.500963  3.899765\n",
        "  4.415868  3.696005  3.644984  3.664213  3.742432  4.09179   3.758916\n",
        "  3.86429   4.110472  4.494254  4.440307  3.772221  4.62348   3.835314\n",
        "  4.026764  4.40486   4.760968  3.77519   5.849949  4.494941  3.8125\n",
        "  4.325871  5.715262  4.02647   3.739519  4.468611  3.732642  4.153118\n",
        "  3.615952  4.259893  6.19729   3.887469  3.974371  4.816694  6.849606\n",
        "  3.738286  4.237331  3.665082  7.383187  7.576583  3.948699  4.81535\n",
        "  3.742068  6.167655  3.655376  4.111999  3.685417  4.080978  3.668821\n",
        "  5.090018  3.631652  4.344246  4.48277   8.559574  6.078737  8.163048\n",
        "  6.303575  4.030657  5.01792   3.788047  4.155275  3.658611  4.365631\n",
        "  3.896992  4.316824  4.06158   4.55386   4.90508   4.907895  7.014292\n",
        "  6.560457  5.111376  3.634158  3.956192  4.813137  4.702959  4.232275\n",
        "  3.818648  4.480866  3.916025  4.940765  4.811596  3.802906  4.962893\n",
        "  3.755905  8.606926  4.637107  4.129155  4.442071  4.648227  5.206848\n",
        "  3.679885  4.375001  3.654032  3.898897  3.865915  4.860306  6.510136\n",
        "  3.693414  4.087     4.853177  4.042716  4.211561  4.15211   4.474437\n",
        "  4.551381  3.690781  8.42808   4.202332  4.191772  4.308953  3.666818\n",
        "  3.947593]\n",
        "183 1373\n"
       ]
      }
     ],
     "prompt_number": 43
    },
    {
     "cell_type": "code",
     "collapsed": false,
     "input": [
      "bestfit = [0.42, 2.07, -0.7, 9.889128, 4570.315127]\n",
      "for model in ['NN','RF','AB','flux']:\n",
      "    datafile = 'chains/realdata_'+model+'_post_equal_weights.dat'\n",
      "    data = np.loadtxt(datafile, usecols=(0,1,2,3,4))\n",
      "    figure = triangle.corner(data, labels=[r'$n_0$',r'$n_1$',r'$n_2$',r'$n_{\\ast}$',r'$n_{\\rm tot}$'],\n",
      "                         bins=40, truths=bestfit, quantiles=[0.05, 0.5, 0.95], show_titles=True,\n",
      "                         title_args={\"fontsize\": 14}, verbose=False,\n",
      "                         extents=[(0,1.7),(0.7,3.4),(-6,0),(3,17),(1500,6500)])\n",
      "    figure.savefig('realdata_posterior_'+model+'.png')\n",
      "    plt.close(figure)"
     ],
     "language": "python",
     "metadata": {},
     "outputs": [],
     "prompt_number": 2
    },
    {
     "cell_type": "code",
     "collapsed": false,
     "input": [
      "bestfit = [0.42, 2.07, -0.7, 9.889128, 4570.315127]\n",
      "for model in ['NN','RF','AB','flux']:\n",
      "    datafile = 'chains/bestfit_'+model+'_post_equal_weights.dat'\n",
      "    data = np.loadtxt(datafile, usecols=(0,1,2,3,4))\n",
      "    figure = triangle.corner(data, labels=[r'$n_0$',r'$n_1$',r'$n_2$',r'$n_{\\ast}$',r'$n_{\\rm tot}$'],\n",
      "                         bins=40, truths=bestfit, quantiles=[0.05, 0.5, 0.95], show_titles=True,\n",
      "                         title_args={\"fontsize\": 14}, verbose=False,\n",
      "                         extents=[(0,1.7),(0.7,3.4),(-6,0),(3,17),(1500,6500)])\n",
      "    figure.savefig('bestfit_posterior_'+model+'.png')"
     ],
     "language": "python",
     "metadata": {},
     "outputs": [],
     "prompt_number": 3
    },
    {
     "cell_type": "code",
     "collapsed": false,
     "input": [],
     "language": "python",
     "metadata": {},
     "outputs": []
    }
   ],
   "metadata": {}
  }
 ]
}