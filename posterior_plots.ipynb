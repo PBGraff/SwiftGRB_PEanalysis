{
 "metadata": {
  "name": "",
  "signature": "sha256:fbf23b87f288b6d0e348dc9ee96fd81963eed8aebc81c05259f836e36117679d"
 },
 "nbformat": 3,
 "nbformat_minor": 0,
 "worksheets": [
  {
   "cells": [
    {
     "cell_type": "code",
     "collapsed": false,
     "input": [
      "# import necessary modules\n",
      "import numpy as np\n",
      "import triangle\n",
      "import matplotlib.pyplot as plt"
     ],
     "language": "python",
     "metadata": {},
     "outputs": [],
     "prompt_number": 1
    },
    {
     "cell_type": "code",
     "collapsed": false,
     "input": [
      "# read in data and set true values\n",
      "datafile = 'chains/analysis_n084_n1207_n270_seed21_post_equal_weights.dat'\n",
      "data = np.loadtxt(datafile, usecols=(0,1,2,3,4))\n",
      "n0_true = 0.84\n",
      "n1_true = 2.07\n",
      "n2_true = -0.7\n",
      "nstar_true = n0_true * (1.0 + 3.6)**n1_true\n",
      "truths = [n0_true, n1_true, n2_true, nstar_true, 9140]\n",
      "data.shape"
     ],
     "language": "python",
     "metadata": {},
     "outputs": [
      {
       "metadata": {},
       "output_type": "pyout",
       "prompt_number": 6,
       "text": [
        "(1260, 5)"
       ]
      }
     ],
     "prompt_number": 6
    },
    {
     "cell_type": "code",
     "collapsed": false,
     "input": [
      "# plot it\n",
      "figure = triangle.corner(data, labels=[r'$n_0$',r'$n_1$',r'$n_2$',r'$n_{\\ast}$',r'$n_{\\rm tot}$'],\n",
      "                         truths=truths, bins=30,\n",
      "                         quantiles=[0.16, 0.5, 0.84], show_titles=True,\n",
      "                         title_args={\"fontsize\": 12})\n",
      "figure.savefig(\"test_posterior.png\")\n",
      "plt.close(figure)"
     ],
     "language": "python",
     "metadata": {},
     "outputs": [
      {
       "output_type": "stream",
       "stream": "stdout",
       "text": [
        "Quantiles:\n",
        "[(0.16, 0.80675471896561346), (0.5, 0.88693731719140578), (0.84, 0.97172394075182944)]\n",
        "Quantiles:\n",
        "[(0.16, 1.9379619188385573), (0.5, 2.0148472047977068), (0.84, 2.0948401327165582)]\n",
        "Quantiles:"
       ]
      },
      {
       "output_type": "stream",
       "stream": "stdout",
       "text": [
        "\n",
        "[(0.16, -1.5607894745785895), (0.5, -1.156232888906656), (0.84, -0.86088472923195791)]\n",
        "Quantiles:"
       ]
      },
      {
       "output_type": "stream",
       "stream": "stdout",
       "text": [
        "\n",
        "[(0.16, 18.418299724373057), (0.5, 19.261578977125428), (0.84, 20.39706564450983)]\n",
        "Quantiles:"
       ]
      },
      {
       "output_type": "stream",
       "stream": "stdout",
       "text": [
        "\n",
        "[(0.16, 7919.3651748041084), (0.5, 8264.0856122572332), (0.84, 8682.9598683195873)]\n"
       ]
      }
     ],
     "prompt_number": 7
    },
    {
     "cell_type": "code",
     "collapsed": false,
     "input": [],
     "language": "python",
     "metadata": {},
     "outputs": [],
     "prompt_number": 3
    },
    {
     "cell_type": "code",
     "collapsed": false,
     "input": [],
     "language": "python",
     "metadata": {},
     "outputs": [],
     "prompt_number": 7
    },
    {
     "cell_type": "code",
     "collapsed": false,
     "input": [],
     "language": "python",
     "metadata": {},
     "outputs": []
    }
   ],
   "metadata": {}
  }
 ]
}