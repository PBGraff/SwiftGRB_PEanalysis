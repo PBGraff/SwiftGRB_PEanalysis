{
 "metadata": {
  "name": "",
  "signature": "sha256:25374bbd5931db82812ad5d3dc00764939595889625757b05192ad251202a747"
 },
 "nbformat": 3,
 "nbformat_minor": 0,
 "worksheets": [
  {
   "cells": [
    {
     "cell_type": "code",
     "collapsed": false,
     "input": [
      "# import necessary modules\n",
      "import numpy as np\n",
      "import triangle"
     ],
     "language": "python",
     "metadata": {},
     "outputs": [],
     "prompt_number": 1
    },
    {
     "cell_type": "code",
     "collapsed": false,
     "input": [
      "# read in data and set true values\n",
      "datafile = 'chains/analysis_n084_n1207_n270_seed20_post_equal_weights.dat'\n",
      "data = np.loadtxt(datafile, usecols=(0,1,2,3,4))\n",
      "n0_true = 0.84\n",
      "n1_true = 2.07\n",
      "n2_true = -0.7\n",
      "nstar_true = n0_true * (1.0 + 3.6)**n1_true\n",
      "truths = [n0_true, n1_true, n2_true, nstar_true, 9140]\n",
      "data.shape"
     ],
     "language": "python",
     "metadata": {},
     "outputs": [
      {
       "metadata": {},
       "output_type": "pyout",
       "prompt_number": 37,
       "text": [
        "(4064, 5)"
       ]
      }
     ],
     "prompt_number": 37
    },
    {
     "cell_type": "code",
     "collapsed": false,
     "input": [
      "# plot it\n",
      "figure = triangle.corner(data, labels=[r'$n_0$',r'$n_1$',r'$n_2$',r'$n_{\\ast}$',r'$n_{\\rm tot}$'],\n",
      "                         truths=truths, bins=30,\n",
      "                         quantiles=[0.16, 0.5, 0.84], show_titles=True,\n",
      "                         title_args={\"fontsize\": 12})\n",
      "figure.savefig(\"test_posterior.png\")"
     ],
     "language": "python",
     "metadata": {},
     "outputs": [
      {
       "output_type": "stream",
       "stream": "stdout",
       "text": [
        "Quantiles:\n",
        "[(0.16, 0.25019705914912899), (0.5, 0.5621997296884006), (0.84, 0.9975531209486006)]\n",
        "Quantiles:\n",
        "[(0.16, 1.8451593877297272), (0.5, 2.3104409700096964), (0.84, 2.9619193706512457)]\n",
        "Quantiles:"
       ]
      },
      {
       "output_type": "stream",
       "stream": "stdout",
       "text": [
        "\n",
        "[(0.16, -3.3851396316299511), (0.5, -2.2045204827780895), (0.84, -0.94219871309492675)]\n",
        "Quantiles:"
       ]
      },
      {
       "output_type": "stream",
       "stream": "stdout",
       "text": [
        "\n",
        "[(0.16, 14.97907281189544), (0.5, 19.72642400124024), (0.84, 25.547762166527395)]\n",
        "Quantiles:"
       ]
      },
      {
       "output_type": "stream",
       "stream": "stdout",
       "text": [
        "\n",
        "[(0.16, 5641.6223317516642), (0.5, 7253.89934503533), (0.84, 8894.8418523486289)]\n"
       ]
      }
     ],
     "prompt_number": 38
    },
    {
     "cell_type": "code",
     "collapsed": false,
     "input": [],
     "language": "python",
     "metadata": {},
     "outputs": [],
     "prompt_number": 15
    },
    {
     "cell_type": "code",
     "collapsed": false,
     "input": [],
     "language": "python",
     "metadata": {},
     "outputs": [],
     "prompt_number": 7
    },
    {
     "cell_type": "code",
     "collapsed": false,
     "input": [],
     "language": "python",
     "metadata": {},
     "outputs": []
    }
   ],
   "metadata": {}
  }
 ]
}