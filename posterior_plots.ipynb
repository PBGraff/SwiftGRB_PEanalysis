{
 "metadata": {
  "name": "",
  "signature": "sha256:3e0da3a268ce5082269554522be098ca2a0c59b1d75b71c3b48d530b07afad79"
 },
 "nbformat": 3,
 "nbformat_minor": 0,
 "worksheets": [
  {
   "cells": [
    {
     "cell_type": "code",
     "collapsed": false,
     "input": [
      "# import necessary modules\n",
      "import numpy as np\n",
      "import triangle"
     ],
     "language": "python",
     "metadata": {},
     "outputs": [],
     "prompt_number": 1
    },
    {
     "cell_type": "code",
     "collapsed": false,
     "input": [
      "# read in data and set true values\n",
      "datafile = 'chains/analysis_n0100_n1300_n2200_d10000_p10000_seed918_post_equal_weights.dat'\n",
      "data = np.loadtxt(datafile, usecols=(0,1,2))\n",
      "n0_true = 1.00\n",
      "n1_true = 3.00\n",
      "n2_true = -2.00"
     ],
     "language": "python",
     "metadata": {},
     "outputs": [],
     "prompt_number": 4
    },
    {
     "cell_type": "code",
     "collapsed": false,
     "input": [
      "# plot it\n",
      "figure = triangle.corner(data, labels=[r'$n_0$',r'$n_1$',r'$n_2$'],\n",
      "                         truths=[n0_true, n1_true, n2_true],\n",
      "                         quantiles=[0.16, 0.5, 0.84], show_titles=True,\n",
      "                         title_args={\"fontsize\": 12})\n",
      "figure.savefig(\"test_posterior.png\")"
     ],
     "language": "python",
     "metadata": {},
     "outputs": [
      {
       "output_type": "stream",
       "stream": "stdout",
       "text": [
        "Quantiles:\n",
        "[(0.16, 0.34951388183693016), (0.5, 0.69233966067853181), (0.84, 1.400236186117481)]\n",
        "Quantiles:\n",
        "[(0.16, 3.5856370688120238), (0.5, 3.7474560429683348), (0.84, 3.8820646017884086)]\n",
        "Quantiles:"
       ]
      },
      {
       "output_type": "stream",
       "stream": "stdout",
       "text": [
        "\n",
        "[(0.16, -2.1083900933040343), (0.5, -1.9866819690303772), (0.84, -1.8548310109453494)]\n"
       ]
      }
     ],
     "prompt_number": 5
    },
    {
     "cell_type": "code",
     "collapsed": false,
     "input": [],
     "language": "python",
     "metadata": {},
     "outputs": []
    }
   ],
   "metadata": {}
  }
 ]
}