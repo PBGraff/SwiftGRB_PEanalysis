{
 "metadata": {
  "name": "",
  "signature": "sha256:c904d3a2dd2e5977120e1a71acf384451c0c8b223fba3bab3d9666cf5effebf2"
 },
 "nbformat": 3,
 "nbformat_minor": 0,
 "worksheets": [
  {
   "cells": [
    {
     "cell_type": "code",
     "collapsed": false,
     "input": [
      "# import necessary modules\n",
      "import numpy as np\n",
      "import triangle"
     ],
     "language": "python",
     "metadata": {},
     "outputs": [],
     "prompt_number": 1
    },
    {
     "cell_type": "code",
     "collapsed": false,
     "input": [
      "# read in data and set true values\n",
      "datafile = 'chains/analysis_n084_n1207_n270_seed18_post_equal_weights.dat'\n",
      "data = np.loadtxt(datafile, usecols=(0,1,2,3,4))\n",
      "n0_true = 0.84\n",
      "n1_true = 2.07\n",
      "n2_true = -0.7\n",
      "nstar_true = n0_true * (1.0 + 3.6)**n1_true\n",
      "truths = [n0_true, n1_true, n2_true, nstar_true, 9140]\n",
      "data.shape"
     ],
     "language": "python",
     "metadata": {},
     "outputs": [
      {
       "metadata": {},
       "output_type": "pyout",
       "prompt_number": 18,
       "text": [
        "(5317, 5)"
       ]
      }
     ],
     "prompt_number": 18
    },
    {
     "cell_type": "code",
     "collapsed": false,
     "input": [
      "# plot it\n",
      "figure = triangle.corner(data, labels=[r'$n_0$',r'$n_1$',r'$n_2$',r'$n_{\\ast}$',r'$n_{\\rm tot}$'],\n",
      "                         truths=truths,\n",
      "                         quantiles=[0.16, 0.5, 0.84], show_titles=True,\n",
      "                         title_args={\"fontsize\": 12})\n",
      "figure.savefig(\"test_posterior.png\")"
     ],
     "language": "python",
     "metadata": {},
     "outputs": [
      {
       "output_type": "stream",
       "stream": "stdout",
       "text": [
        "Quantiles:\n",
        "[(0.16, 0.76801432544673887), (0.5, 0.90043998867574682), (0.84, 1.0484275834234675)]\n",
        "Quantiles:\n",
        "[(0.16, 1.8935994341514166), (0.5, 2.0139744131652484), (0.84, 2.1419203233250395)]\n",
        "Quantiles:"
       ]
      },
      {
       "output_type": "stream",
       "stream": "stdout",
       "text": [
        "\n",
        "[(0.16, -0.78364670669689751), (0.5, -0.6690837578769111), (0.84, -0.56000160107875385)]\n",
        "Quantiles:"
       ]
      },
      {
       "output_type": "stream",
       "stream": "stdout",
       "text": [
        "\n",
        "[(0.16, 18.770595419863142), (0.5, 19.496036970676254), (0.84, 20.270091746463923)]\n",
        "Quantiles:"
       ]
      },
      {
       "output_type": "stream",
       "stream": "stdout",
       "text": [
        "\n",
        "[(0.16, 9046.9995016625198), (0.5, 9138.776386347834), (0.84, 9233.2974558174101)]\n"
       ]
      }
     ],
     "prompt_number": 19
    },
    {
     "cell_type": "code",
     "collapsed": false,
     "input": [],
     "language": "python",
     "metadata": {},
     "outputs": [],
     "prompt_number": 15
    },
    {
     "cell_type": "code",
     "collapsed": false,
     "input": [],
     "language": "python",
     "metadata": {},
     "outputs": [],
     "prompt_number": 7
    },
    {
     "cell_type": "code",
     "collapsed": false,
     "input": [],
     "language": "python",
     "metadata": {},
     "outputs": []
    }
   ],
   "metadata": {}
  }
 ]
}