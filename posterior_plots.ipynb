{
 "metadata": {
  "celltoolbar": "Raw Cell Format",
  "name": "",
  "signature": "sha256:bacbc26fd67ee3096b5237537980359a11c7a90231fb12dbab95cd552023cb25"
 },
 "nbformat": 3,
 "nbformat_minor": 0,
 "worksheets": [
  {
   "cells": [
    {
     "cell_type": "code",
     "collapsed": false,
     "input": [
      "# import necessary modules\n",
      "import numpy as np\n",
      "import triangle\n",
      "import matplotlib.pyplot as plt"
     ],
     "language": "python",
     "metadata": {},
     "outputs": [],
     "prompt_number": 1
    },
    {
     "cell_type": "code",
     "collapsed": false,
     "input": [
      "bestfit = [0.42, 2.07, -0.7, 9.889128, 4570.315127]\n",
      "for model in ['NN','RF','AB','flux']:\n",
      "    datafile = 'chains/realdata_'+model+'_post_equal_weights.dat'\n",
      "    data = np.loadtxt(datafile, usecols=(0,1,2,4,5))\n",
      "    figure = triangle.corner(data, labels=[r'$n_0$',r'$n_1$',r'$n_2$',r'$n_{\\ast}$',r'$n_{\\rm tot}$'],\n",
      "                         bins=40, truths=bestfit, quantiles=[0.05, 0.5, 0.95], show_titles=True,\n",
      "                         title_args={\"fontsize\": 14}, verbose=False,\n",
      "                         extents=[(0,1.7),(0.7,3.4),(-6,0),(3,17),(1500,6500)])\n",
      "    figure.savefig('plots/realdata_posterior_'+model+'.png')\n",
      "    plt.close(figure)"
     ],
     "language": "python",
     "metadata": {},
     "outputs": [],
     "prompt_number": 3
    },
    {
     "cell_type": "code",
     "collapsed": false,
     "input": [
      "bestfit = [0.42, 2.07, -0.7, 9.889128, 4570.315127]\n",
      "for model in ['NN','RF','AB','flux']:\n",
      "    datafile = 'chains/bestfit_'+model+'_post_equal_weights.dat'\n",
      "    data = np.loadtxt(datafile, usecols=(0,1,2,4,5))\n",
      "    figure = triangle.corner(data, labels=[r'$n_0$',r'$n_1$',r'$n_2$',r'$n_{\\ast}$',r'$n_{\\rm tot}$'],\n",
      "                         bins=40, truths=bestfit, quantiles=[0.05, 0.5, 0.95], show_titles=True,\n",
      "                         title_args={\"fontsize\": 14}, verbose=False,\n",
      "                         extents=[(0,1.7),(0.7,3.4),(-6,0),(3,17),(1500,6500)])\n",
      "    figure.savefig('plots/bestfit_posterior_'+model+'.png')"
     ],
     "language": "python",
     "metadata": {},
     "outputs": [],
     "prompt_number": 4
    },
    {
     "cell_type": "code",
     "collapsed": false,
     "input": [
      "bestfit = [0.42, 2.07, -0.7, 3.6, 9.889128, 4570.315127]\n",
      "for model in ['NN','RF','AB','flux']:\n",
      "    datafile = 'chains/realdata_varyz1_'+model+'_post_equal_weights.dat'\n",
      "    data = np.loadtxt(datafile, usecols=(0,1,2,3,4,5))\n",
      "    figure = triangle.corner(data, labels=[r'$n_0$',r'$n_1$',r'$n_2$', r'$z_1$', r'$n_{\\ast}$',r'$n_{\\rm tot}$'],\n",
      "                             bins=40, truths=bestfit, quantiles=[0.05, 0.5, 0.95], show_titles=True,\n",
      "                             title_args={\"fontsize\": 14}, verbose=False,\n",
      "                             extents=[(0,1.6),(0.7,3.2),(-6,0),(1.8,10),(5,80),(2000,10000)])\n",
      "    figure.savefig('plots/realdata_varyz1_posterior_'+model+'.png')\n",
      "    plt.close(figure)"
     ],
     "language": "python",
     "metadata": {},
     "outputs": [],
     "prompt_number": 22
    },
    {
     "cell_type": "code",
     "collapsed": false,
     "input": [
      "bestfit = [0.42, 2.07, -0.7, 3.6, 9.889128, 4570.315127]\n",
      "for model in ['NN','RF','AB','flux']:\n",
      "    datafile = 'chains/bestfit_varyz1_'+model+'_post_equal_weights.dat'\n",
      "    data = np.loadtxt(datafile, usecols=(0,1,2,3,4,5))\n",
      "    figure = triangle.corner(data, labels=[r'$n_0$',r'$n_1$',r'$n_2$', r'$z_1$', r'$n_{\\ast}$',r'$n_{\\rm tot}$'],\n",
      "                             bins=40, truths=bestfit, quantiles=[0.05, 0.5, 0.95], show_titles=True,\n",
      "                             title_args={\"fontsize\": 14}, verbose=False,\n",
      "                             extents=[(0,1.6),(0.7,4.0),(-6,0),(1.8,10),(5,80),(2500,12000)])\n",
      "    figure.savefig('plots/bestfit_varyz1_posterior_'+model+'.png')\n",
      "    plt.close(figure)"
     ],
     "language": "python",
     "metadata": {},
     "outputs": [],
     "prompt_number": 23
    },
    {
     "cell_type": "code",
     "collapsed": false,
     "input": [],
     "language": "python",
     "metadata": {},
     "outputs": []
    }
   ],
   "metadata": {}
  }
 ]
}